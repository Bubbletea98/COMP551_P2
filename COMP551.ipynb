{
  "nbformat": 4,
  "nbformat_minor": 0,
  "metadata": {
    "colab": {
      "name": "COMP551.ipynb",
      "provenance": [],
      "collapsed_sections": []
    },
    "kernelspec": {
      "name": "python3",
      "display_name": "Python 3"
    }
  },
  "cells": [
    {
      "cell_type": "code",
      "metadata": {
        "id": "xtXMnR6wVIn3",
        "colab_type": "code",
        "outputId": "fdfe1210-a2e7-4c3d-b94a-131ec75d7edb",
        "colab": {
          "base_uri": "https://localhost:8080/",
          "height": 104
        }
      },
      "source": [
        "import sklearn\n",
        "from sklearn import datasets\n",
        "import numpy as np\n",
        "from sklearn.feature_extraction.text import CountVectorizer\n",
        "import nltk\n",
        "from nltk import word_tokenize         \n",
        "from nltk.stem import WordNetLemmatizer \n",
        "from sklearn.feature_extraction.text import TfidfTransformer\n",
        "from sklearn.linear_model import LogisticRegression\n",
        "from sklearn.preprocessing import StandardScaler\n",
        "from sklearn import preprocessing\n",
        "nltk.download('punkt')\n",
        "nltk.download('wordnet')"
      ],
      "execution_count": 249,
      "outputs": [
        {
          "output_type": "stream",
          "text": [
            "[nltk_data] Downloading package punkt to /root/nltk_data...\n",
            "[nltk_data]   Package punkt is already up-to-date!\n",
            "[nltk_data] Downloading package wordnet to /root/nltk_data...\n",
            "[nltk_data]   Package wordnet is already up-to-date!\n"
          ],
          "name": "stdout"
        },
        {
          "output_type": "execute_result",
          "data": {
            "text/plain": [
              "True"
            ]
          },
          "metadata": {
            "tags": []
          },
          "execution_count": 249
        }
      ]
    },
    {
      "cell_type": "code",
      "metadata": {
        "id": "wimTkPxhgsW5",
        "colab_type": "code",
        "colab": {}
      },
      "source": [
        " types = ['alt.atheism','comp.graphics',\n",
        "               'comp.os.ms-windows.misc','comp.sys.ibm.pc.hardware',\n",
        "               'comp.sys.ibm.pc.hardware','comp.windows.x','misc.forsale',\n",
        "               'rec.autos','rec.motorcycles','rec.sport.baseball'\n",
        "               ,'rec.sport.hockey','sci.crypt','sci.electronics','sci.med',\n",
        "               'sci.space','soc.religion.christian','talk.politics.guns',\n",
        "               'talk.politics.mideast','talk.politics.misc','talk.religion.misc']"
      ],
      "execution_count": 0,
      "outputs": []
    },
    {
      "cell_type": "code",
      "metadata": {
        "id": "x0UeiqOIW4Q8",
        "colab_type": "code",
        "colab": {}
      },
      "source": [
        "train= sklearn.datasets.fetch_20newsgroups(subset='train',remove=(['headers','footers','quotes']),shuffle=True,random_state=42,categories=types)\n",
        "tests= sklearn.datasets.fetch_20newsgroups(subset='test',remove=(['headers','footers','quotes']),shuffle=True,random_state=42,categories=types)"
      ],
      "execution_count": 0,
      "outputs": []
    },
    {
      "cell_type": "code",
      "metadata": {
        "id": "6euXFuQNdFD1",
        "colab_type": "code",
        "colab": {}
      },
      "source": [
        "scaler=StandardScaler(with_mean=False)\n",
        "class LemmaTokenizer:\n",
        "     def __init__(self):\n",
        "         self.wnl = WordNetLemmatizer()\n",
        "     def __call__(self, doc):\n",
        "         return [self.wnl.lemmatize(t) for t in word_tokenize(doc)]\n",
        "\n",
        "count_vect = CountVectorizer(stop_words='english')\n",
        "#count_vect_test= CountVectorizer(tokenizer=LemmaTokenizer(),lowercase=True,stop_words={'to','a','the','this','them','these','those'})\n",
        "X_train_counts = count_vect.fit_transform(train.data)\n",
        "X_train_scale= scaler.fit_transform(X_train_counts)\n",
        "X_test_counts = count_vect.transform(tests.data)\n",
        "X_test_scale= scaler.transform(X_test_counts)\n",
        "Y_train_scale= train.target\n",
        "Y_test_counts =test.target"
      ],
      "execution_count": 0,
      "outputs": []
    },
    {
      "cell_type": "code",
      "metadata": {
        "id": "guMXcpGf7AE0",
        "colab_type": "code",
        "colab": {}
      },
      "source": [
        "X_test_counts.shape"
      ],
      "execution_count": 0,
      "outputs": []
    },
    {
      "cell_type": "code",
      "metadata": {
        "id": "-1kK2Z_sD-9D",
        "colab_type": "code",
        "outputId": "bfc1546b-5c3a-48d0-a8af-5e8b420209fd",
        "colab": {
          "base_uri": "https://localhost:8080/",
          "height": 35
        }
      },
      "source": [
        "X_train_counts.shape"
      ],
      "execution_count": 224,
      "outputs": [
        {
          "output_type": "execute_result",
          "data": {
            "text/plain": [
              "(10736, 141933)"
            ]
          },
          "metadata": {
            "tags": []
          },
          "execution_count": 224
        }
      ]
    },
    {
      "cell_type": "code",
      "metadata": {
        "id": "yEN_n9QzW4f9",
        "colab_type": "code",
        "outputId": "a3124670-f662-4500-d3d7-9ccf5646a7ad",
        "colab": {
          "base_uri": "https://localhost:8080/",
          "height": 35
        }
      },
      "source": [
        "tfidf_transformer = TfidfTransformer()\n",
        "X_train_tfidf = tfidf_transformer.fit_transform(X_train_scale)\n",
        "#Y_train_tfidf = tfidf_transformer.fit_transform(Y_train_counts)\n",
        "print(train.target.shape)\n",
        "clf = LogisticRegression().fit(X_train_tfidf,train.target )"
      ],
      "execution_count": 258,
      "outputs": [
        {
          "output_type": "stream",
          "text": [
            "(10736,)\n"
          ],
          "name": "stdout"
        }
      ]
    },
    {
      "cell_type": "code",
      "metadata": {
        "id": "1S3x0CbfAGv5",
        "colab_type": "code",
        "outputId": "4c00a092-2842-4807-b4a0-8dccea9142e2",
        "colab": {
          "base_uri": "https://localhost:8080/",
          "height": 35
        }
      },
      "source": [
        "X_test_tfidf.shape"
      ],
      "execution_count": 244,
      "outputs": [
        {
          "output_type": "execute_result",
          "data": {
            "text/plain": [
              "(7147, 141933)"
            ]
          },
          "metadata": {
            "tags": []
          },
          "execution_count": 244
        }
      ]
    },
    {
      "cell_type": "code",
      "metadata": {
        "id": "PXUpL9WucL5m",
        "colab_type": "code",
        "colab": {}
      },
      "source": [
        ""
      ],
      "execution_count": 0,
      "outputs": []
    },
    {
      "cell_type": "code",
      "metadata": {
        "id": "CPNASY7KxlZx",
        "colab_type": "code",
        "outputId": "9b0a6594-55fc-4e38-ec5c-9df8eb39d8b3",
        "colab": {
          "base_uri": "https://localhost:8080/",
          "height": 35
        }
      },
      "source": [
        "predicted = clf.predict(X_test_counts)\n",
        "np.mean(predicted ==Y_test_counts)"
      ],
      "execution_count": 260,
      "outputs": [
        {
          "output_type": "execute_result",
          "data": {
            "text/plain": [
              "0.6681124947530432"
            ]
          },
          "metadata": {
            "tags": []
          },
          "execution_count": 260
        }
      ]
    }
  ]
}